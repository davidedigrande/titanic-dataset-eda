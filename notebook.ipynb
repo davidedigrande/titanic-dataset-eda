{
 "cells": [
  {
   "cell_type": "markdown",
   "metadata": {},
   "source": [
    "# Exploratory Analysis of the Titanic Dataset"
   ]
  },
  {
   "cell_type": "code",
   "execution_count": 69,
   "metadata": {},
   "outputs": [],
   "source": [
    "# -- impostazione dei titoli --\n",
    "# # Main title\n",
    "# ## Analysis Steps\n",
    "# ### Title\n",
    "# #### Important text\n",
    "# Text"
   ]
  },
  {
   "cell_type": "markdown",
   "metadata": {},
   "source": [
    "The sinking of the Titanic is one of the most famous shipwrecks in history. On April 15, 1912, during its maiden voyage, the Titanic sank after colliding with an iceberg, causing the death of 1502 of the 2224 passengers and crew members. The construction of the Titanic cost about 7.5 million dollars, and it sank into the ocean due to the collision.\n",
    "\n",
    "Dataset: Titanic - Kaggle"
   ]
  },
  {
   "cell_type": "markdown",
   "metadata": {},
   "source": [
    "### Objective\n",
    "The goal is to create a notebook for conducting an exploratory data analysis to determine if the survivors were simply lucky or if some individuals had a higher chance of surviving based on their characteristics.\n",
    "\n",
    "For this project, we will use the pandas library for data manipulation and matplotlib for data visualization."
   ]
  },
  {
   "cell_type": "markdown",
   "metadata": {},
   "source": [
    "---"
   ]
  },
  {
   "cell_type": "markdown",
   "metadata": {},
   "source": [
    "## Importing the Dataset"
   ]
  },
  {
   "cell_type": "markdown",
   "metadata": {},
   "source": [
    "Importo delle librerie necessarie per l'analisi dei dati."
   ]
  },
  {
   "cell_type": "code",
   "execution_count": 70,
   "metadata": {},
   "outputs": [],
   "source": [
    "import pandas as pd\n",
    "import matplotlib as plt\n",
    "import matplotlib.pyplot as plt\n",
    "import numpy as np "
   ]
  },
  {
   "cell_type": "markdown",
   "metadata": {},
   "source": [
    "Importo da csv in dataframe. "
   ]
  },
  {
   "cell_type": "code",
   "execution_count": null,
   "metadata": {},
   "outputs": [],
   "source": [
    "# Dataset with NaN\n",
    "'''\n",
    "df_test = pd.read_csv('data/test.csv')\n",
    "df_train = pd.read_csv('data/train.csv')\n",
    "df = pd.concat([df_test, df_train])\n",
    "'''\n",
    "\n",
    "# Dataset without NaN\n",
    "df = pd.read_csv('data/train.csv')\n",
    "df.head()"
   ]
  },
  {
   "cell_type": "markdown",
   "metadata": {},
   "source": [
    "---"
   ]
  },
  {
   "cell_type": "markdown",
   "metadata": {},
   "source": [
    "## Exploring Missing Values"
   ]
  },
  {
   "cell_type": "code",
   "execution_count": null,
   "metadata": {},
   "outputs": [],
   "source": [
    "df.isna().sum()"
   ]
  },
  {
   "cell_type": "markdown",
   "metadata": {},
   "source": [
    "---"
   ]
  },
  {
   "cell_type": "markdown",
   "metadata": {},
   "source": [
    "## Feature Analysis"
   ]
  },
  {
   "cell_type": "markdown",
   "metadata": {},
   "source": [
    "Importo dizionario del dataset."
   ]
  },
  {
   "cell_type": "code",
   "execution_count": null,
   "metadata": {},
   "outputs": [],
   "source": [
    "df_dict = pd.read_csv('data/dictionary.csv')\n",
    "\n",
    "display(df_dict)"
   ]
  },
  {
   "cell_type": "markdown",
   "metadata": {},
   "source": [
    "#### Analizziamo le tipologie di variabili che abbiamo a disposizione.\n",
    "\n",
    "<style>\n",
    "  table {\n",
    "    margin: 0;\n",
    "    width: 80%; \n",
    "  }\n",
    "  td {\n",
    "    text-align: left;\n",
    "    padding: 8px;\n",
    "  }\n",
    "  th\n",
    "  {\n",
    "    text-align: left;\n",
    "  }\n",
    "</style>\n",
    "\n",
    "<table>\n",
    "    <tr>\n",
    "        <td>Variabili <b>categoriche</b>: \n",
    "            <ul>\n",
    "                <li>Sex (male/female);</li>\n",
    "                <li>Pclass (3rd/2nd/1st);</li>\n",
    "                <li>Embarked (port);</li>\n",
    "                <li>Survived (true/false).</li>\n",
    "            </ul> \n",
    "        </td>\n",
    "        <td>Variabili <b>ordinali</b>:\n",
    "            <ul>\n",
    "                <li>Pclass (3rd/2nd/1st);</li>\n",
    "                <li>Sibsp (siblings+spouse);</li>\n",
    "                <li>Parch (parents+children).</li>\n",
    "            </ul>\n",
    "        </td>\n",
    "    </tr>\n",
    "    <tr>\n",
    "        <td>Variabili <b>continue</b>:\n",
    "            <ul>\n",
    "                <li>Age;</li>\n",
    "                <li>Fare (price of ticket).</li>\n",
    "            </ul>\n",
    "        </td>\n",
    "        <td>Non considerate:<b></b>\n",
    "            <ul>\n",
    "                <li>PasssengerId;</li>\n",
    "                <li>Name;</li>\n",
    "                <li>Cabin.</li>\n",
    "            </ul>\n",
    "        </td>\n",
    "    </tr>\n",
    "</table>\n"
   ]
  },
  {
   "cell_type": "markdown",
   "metadata": {},
   "source": [
    "---"
   ]
  },
  {
   "cell_type": "markdown",
   "metadata": {},
   "source": [
    "## Survived"
   ]
  },
  {
   "cell_type": "markdown",
   "metadata": {},
   "source": [
    "### Analisi Sopravvissuti (variabile categorica)"
   ]
  },
  {
   "cell_type": "code",
   "execution_count": 74,
   "metadata": {},
   "outputs": [],
   "source": [
    "df_survived = df['Survived'].value_counts(dropna=False)"
   ]
  },
  {
   "cell_type": "code",
   "execution_count": null,
   "metadata": {},
   "outputs": [],
   "source": [
    "\n",
    "# Data for the pie chart\n",
    "df_survived_relative = df['Survived'].value_counts(dropna=False, normalize=True) *100\n",
    "df_survived_relative = df_survived_relative.round()\n",
    "#labels = list(df_survived_relative.index)\n",
    "values = list(df_survived_relative)\n",
    "\n",
    "# Create the pie chart\n",
    "plt.pie(values, labels=[\"Died\", \"Survived\"], autopct='%1.1f%%')\n",
    "\n",
    "# Add a title\n",
    "plt.title('Percentage of Survivors')\n",
    "\n",
    "# Display the chart\n",
    "plt.show()"
   ]
  },
  {
   "cell_type": "markdown",
   "metadata": {},
   "source": [
    "Dall'analisi dei sopravvissuti emerge che la maggior parte non ce l'ha fatta.\n",
    "\n",
    "Ma entriamo nel dettaglio di quanti maschi e femmine effettivamente hanno perso la vita"
   ]
  },
  {
   "cell_type": "markdown",
   "metadata": {},
   "source": [
    "---"
   ]
  },
  {
   "cell_type": "markdown",
   "metadata": {},
   "source": [
    "## Sex (Gender)"
   ]
  },
  {
   "cell_type": "markdown",
   "metadata": {},
   "source": [
    "### Analysis of Sex gender relations (Categorical Variable)."
   ]
  },
  {
   "cell_type": "markdown",
   "metadata": {},
   "source": [
    "#### Relation between sex gender and survival rates"
   ]
  },
  {
   "cell_type": "code",
   "execution_count": null,
   "metadata": {},
   "outputs": [],
   "source": [
    "#Survivors aggregated by gender \n",
    "gender_survived = df.groupby(by=['Sex', 'Survived'])['Survived'].count()\n",
    "\n",
    "# Create a pivot table to organize the data\n",
    "pivot_table = gender_survived.unstack(level=-1).reset_index().rename(columns={0: 'Died', 1: 'Survived'}).rename_axis(columns={'Survived': ''})\n",
    "\n",
    "# Add a column for the total number of passengers in each class\n",
    "pivot_table['Total'] = pivot_table['Died'] + pivot_table['Survived']\n",
    "\n",
    "# Display the table\n",
    "pivot_table"
   ]
  },
  {
   "cell_type": "markdown",
   "metadata": {},
   "source": [
    "Let's analyse the data with some graphs."
   ]
  },
  {
   "cell_type": "code",
   "execution_count": null,
   "metadata": {},
   "outputs": [],
   "source": [
    "# Gender colors:\n",
    "male_colors = [\"#99FF33\", \"#B2FF66\", \"#CCFF99\", \"#E5FFCC\"] # (4 shades of light green)\n",
    "female_colors = [\"#FF3333\", \"#FF6666\", \"#FF9999\", \"#FFCCCC\"] # (4 shades of red)\n",
    "\n",
    "plt.figure(figsize=(8, 4))  # Adjust figure size for better visualization\n",
    "\n",
    "#Male survivors in a pie chart\n",
    "male_survived = gender_survived.get('male')\n",
    "\n",
    "plt.subplot(1, 2, 1)\n",
    "plt.title(\"Male survival rate\")\n",
    "plt.pie(male_survived, labels=[\"Died\", \"Survived\"], autopct='%1.1f%%', colors=[male_colors[3], male_colors[1]], startangle=90)\n",
    "\n",
    "#female survivors in a pie chart\n",
    "female_survived = gender_survived.get('female')\n",
    "\n",
    "plt.subplot(1, 2, 2)\n",
    "plt.title(\"Female survival rate\")\n",
    "plt.pie(female_survived, labels=[\"Died\", \"Survived\"], autopct='%1.1f%%', colors=[female_colors[3], female_colors[1]], startangle=90)\n",
    "\n",
    "plt.tight_layout()  # Adjust spacing between subplots\n",
    "plt.show()"
   ]
  },
  {
   "cell_type": "code",
   "execution_count": null,
   "metadata": {},
   "outputs": [],
   "source": [
    "# Create a pivot table to aggregate data by Pclass and survived\n",
    "pivot_data = df.pivot_table(index='Sex', columns='Survived', aggfunc='size')\n",
    "\n",
    "pivot_data.index = [\"Females\", \"Male\"]\n",
    "pivot_data.columns = [\"Not survived\", \"Survived\"]\n",
    "\n",
    "# Flatten the pivot table into a single series\n",
    "flat_data = pivot_data.stack()\n",
    "\n",
    "# Create a new DataFrame with the flat data and labels\n",
    "flat_df = pd.DataFrame({'Category': flat_data.index, 'Count': flat_data.values})\n",
    "\n",
    "# Plot the flat pie chart\n",
    "plt.figure(figsize=(6, 6))\n",
    "plt.pie(\n",
    "    flat_df['Count'], \n",
    "    #labels=flat_df['Category'], \n",
    "    labels=[\n",
    "        \"Female \\n Not survived\",\n",
    "        \"Female \\n Survived\", \n",
    "        \"Male \\n Not survived\",\n",
    "        \"Male \\n Survived\"],\n",
    "    autopct='%1.1f%%',\n",
    "    colors= [female_colors[2],female_colors[1], \n",
    "             male_colors[2], male_colors[0]]) \n",
    "\n",
    "plt.title('Relation between gender and survival rate')\n",
    "plt.show()"
   ]
  },
  {
   "cell_type": "markdown",
   "metadata": {},
   "source": [
    "In summary, we can observe a significant disparity in survival rates between genders aboard the Titanic.\n",
    " \n",
    "Women exhibited a markedly higher survival rate compared to men."
   ]
  },
  {
   "cell_type": "markdown",
   "metadata": {},
   "source": [
    "---"
   ]
  },
  {
   "cell_type": "markdown",
   "metadata": {},
   "source": [
    "## Pclass (Ticket Class)\n"
   ]
  },
  {
   "cell_type": "markdown",
   "metadata": {},
   "source": [
    "### Analysis of Ticket Class relations (Categorical Variable)."
   ]
  },
  {
   "cell_type": "markdown",
   "metadata": {},
   "source": [
    "#### Possible analysis tasks:\n",
    "- Survival Rates: Compare survival rates across different classes.\n",
    "- Fare Analysis: Analyze the relationship between class and fare paid.\n",
    "- Cabin Analysis: Examine the distribution of cabin types across different classes.\n",
    "- Embarkation Port Analysis: Analyze the relationship between class and embarkation port."
   ]
  },
  {
   "cell_type": "markdown",
   "metadata": {},
   "source": [
    "#### Relation between travel class and survival rates"
   ]
  },
  {
   "cell_type": "code",
   "execution_count": null,
   "metadata": {},
   "outputs": [],
   "source": [
    "class_survived = df.groupby(by=['Pclass', 'Survived'])['Survived'].count()\n",
    "\n",
    "# Create a pivot table to organize the data\n",
    "pivot_table = class_survived.unstack(level=-1).reset_index().rename(columns={0: 'Died', 1: 'Survived'}).rename_axis(columns={'Survived': ''})\n",
    "\n",
    "# Add a column for the total number of passengers in each class\n",
    "pivot_table['Total'] = pivot_table['Died'] + pivot_table['Survived']\n",
    "\n",
    "# Display the table\n",
    "pivot_table"
   ]
  },
  {
   "cell_type": "markdown",
   "metadata": {},
   "source": [
    "Let's analyse the data with some graphs."
   ]
  },
  {
   "cell_type": "code",
   "execution_count": null,
   "metadata": {},
   "outputs": [],
   "source": [
    "# Class colors:\n",
    "first_class_colors = [\"#66FFFF\", \"#99FFFF\", \"#CCFFFF\"] # (3 shades of light blue)\n",
    "second_class_colors = [\"#66B2FF\", \"#99CCFF\", \"#CCE5FF\"] # (3 shades of blue)\n",
    "third_class_colors = [\"#6666FF\", \"#9999FF\", \"#CCCCFF\"] # (3 shades of dark blue/violet)\n",
    "\n",
    "# Count\n",
    "class_survived = df.groupby(by=['Pclass', 'Survived'])['Survived'].count()\n",
    "\n",
    "# Create pie charts for each Pclass\n",
    "plt.figure(figsize=(12, 4))  # Adjust figure size for better visualization\n",
    "\n",
    "# First class\n",
    "plt.subplot(1, 3, 1)\n",
    "first_class = class_survived.get(1)\n",
    "plt.title(\"First Class Survivors\")\n",
    "plt.pie(first_class, labels=[\"Died\", \"Survived\"], autopct='%1.1f%%', colors=[first_class_colors[2], first_class_colors[0]],startangle=90)\n",
    "\n",
    "# Second class\n",
    "plt.subplot(1, 3, 2)\n",
    "second_class = class_survived.get(2)\n",
    "plt.title(\"Second Class Survivors\")\n",
    "plt.pie(second_class, labels=[\"Died\", \"Survived\"], autopct='%1.1f%%', colors=[second_class_colors[2], second_class_colors[0]],startangle=90)\n",
    "\n",
    "# Third class\n",
    "plt.subplot(1, 3, 3)\n",
    "third_class = class_survived.get(3)\n",
    "plt.title(\"Third Class Survivors\")\n",
    "plt.pie(third_class, labels=[\"Died\", \"Survived\"], autopct='%1.1f%%', colors=[third_class_colors[2], third_class_colors[0]],startangle=90)\n",
    "\n",
    "plt.tight_layout()  # Adjust spacing between subplots\n",
    "plt.show()"
   ]
  },
  {
   "cell_type": "markdown",
   "metadata": {},
   "source": [
    "Let's assume that a higher travel class corresponds to a higher social status. \n",
    "\n",
    "From what we can see, most of the first class survived while most of the third class died."
   ]
  },
  {
   "cell_type": "code",
   "execution_count": null,
   "metadata": {},
   "outputs": [],
   "source": [
    "# Create a pivot table to aggregate data by Pclass and survived\n",
    "pivot_data = df.pivot_table(index='Pclass', columns='Survived', aggfunc='size')\n",
    "\n",
    "pivot_data.index = [\"First class\", \"Second class\", \"Third class\"]\n",
    "pivot_data.columns = [\"Not survived\", \"Survived\"]\n",
    "\n",
    "# Flatten the pivot table into a single series\n",
    "flat_data = pivot_data.stack()\n",
    "\n",
    "# Create a new DataFrame with the flat data and labels\n",
    "flat_df = pd.DataFrame({'Category': flat_data.index, 'Count': flat_data.values})\n",
    "\n",
    "# Plot the flat pie chart\n",
    "plt.figure(figsize=(6, 6))\n",
    "plt.pie(\n",
    "    flat_df['Count'], \n",
    "    #labels=flat_df['Category'], \n",
    "    labels=[\n",
    "        \"First class \\n Not survived\",\n",
    "        \"First class \\n Survived\", \n",
    "        \"Second class \\n Not survived\",\n",
    "        \"Second class \\n Survived\",\n",
    "        \"Third class \\n Not survived\",\n",
    "        \"Third class \\n Survived\"],\n",
    "    autopct='%1.1f%%',\n",
    "    colors= [first_class_colors[1],first_class_colors[0], \n",
    "             second_class_colors[1], second_class_colors[0],\n",
    "             third_class_colors[1], third_class_colors[0]]) \n",
    "\n",
    "plt.title('Relation between travel class and survivors')\n",
    "plt.show()\n"
   ]
  },
  {
   "cell_type": "markdown",
   "metadata": {},
   "source": [
    "From these graphs, we can infer that social rank was a determining factor in survival.\n",
    "\n",
    "But does the class also influenced gender survival?"
   ]
  },
  {
   "cell_type": "markdown",
   "metadata": {},
   "source": [
    "---"
   ]
  },
  {
   "cell_type": "markdown",
   "metadata": {},
   "source": [
    "## 7. Relationship between Sex and Pclass"
   ]
  },
  {
   "cell_type": "code",
   "execution_count": null,
   "metadata": {},
   "outputs": [],
   "source": [
    "class_gender_survived = df.groupby(by=['Pclass', 'Survived', 'Sex'])['Survived'].count()\n",
    "class_gender_survived"
   ]
  },
  {
   "cell_type": "markdown",
   "metadata": {},
   "source": [
    "---"
   ]
  },
  {
   "cell_type": "markdown",
   "metadata": {},
   "source": [
    "## 8. Age"
   ]
  },
  {
   "cell_type": "code",
   "execution_count": null,
   "metadata": {},
   "outputs": [],
   "source": [
    "#media\n",
    "#mediana\n",
    "##moda\n",
    "#minimo\n",
    "#massimo\n",
    "\n",
    "df[\"Age\"].max()\n",
    "df[\"Age\"].min()\n",
    "df[\"Age\"].mean()\n",
    "df[\"Age\"].median()\n",
    "\n",
    "df[\"Age\"].plot(kind=\"hist\", bins = 50)"
   ]
  },
  {
   "cell_type": "code",
   "execution_count": null,
   "metadata": {},
   "outputs": [],
   "source": [
    "df\n",
    "df.head(40)"
   ]
  },
  {
   "cell_type": "code",
   "execution_count": 85,
   "metadata": {},
   "outputs": [
    {
     "data": {
      "text/html": [
       "<div>\n",
       "<style scoped>\n",
       "    .dataframe tbody tr th:only-of-type {\n",
       "        vertical-align: middle;\n",
       "    }\n",
       "\n",
       "    .dataframe tbody tr th {\n",
       "        vertical-align: top;\n",
       "    }\n",
       "\n",
       "    .dataframe thead th {\n",
       "        text-align: right;\n",
       "    }\n",
       "</style>\n",
       "<table border=\"1\" class=\"dataframe\">\n",
       "  <thead>\n",
       "    <tr style=\"text-align: right;\">\n",
       "      <th></th>\n",
       "      <th>PassengerId</th>\n",
       "      <th>Survived</th>\n",
       "      <th>Pclass</th>\n",
       "      <th>Name</th>\n",
       "      <th>Sex</th>\n",
       "      <th>Age</th>\n",
       "      <th>SibSp</th>\n",
       "      <th>Parch</th>\n",
       "      <th>Ticket</th>\n",
       "      <th>Fare</th>\n",
       "      <th>Cabin</th>\n",
       "      <th>Embarked</th>\n",
       "      <th>Title</th>\n",
       "      <th>Ageavg</th>\n",
       "    </tr>\n",
       "  </thead>\n",
       "  <tbody>\n",
       "    <tr>\n",
       "      <th>0</th>\n",
       "      <td>1</td>\n",
       "      <td>0</td>\n",
       "      <td>3</td>\n",
       "      <td>Braund, Mr. Owen Harris</td>\n",
       "      <td>male</td>\n",
       "      <td>22.000000</td>\n",
       "      <td>1</td>\n",
       "      <td>0</td>\n",
       "      <td>A/5 21171</td>\n",
       "      <td>7.2500</td>\n",
       "      <td>NaN</td>\n",
       "      <td>S</td>\n",
       "      <td>Mr.</td>\n",
       "      <td>32.368090</td>\n",
       "    </tr>\n",
       "    <tr>\n",
       "      <th>1</th>\n",
       "      <td>2</td>\n",
       "      <td>1</td>\n",
       "      <td>1</td>\n",
       "      <td>Cumings, Mrs. John Bradley (Florence Briggs Th...</td>\n",
       "      <td>female</td>\n",
       "      <td>38.000000</td>\n",
       "      <td>1</td>\n",
       "      <td>0</td>\n",
       "      <td>PC 17599</td>\n",
       "      <td>71.2833</td>\n",
       "      <td>C85</td>\n",
       "      <td>C</td>\n",
       "      <td>Mrs.</td>\n",
       "      <td>35.898148</td>\n",
       "    </tr>\n",
       "    <tr>\n",
       "      <th>2</th>\n",
       "      <td>3</td>\n",
       "      <td>1</td>\n",
       "      <td>3</td>\n",
       "      <td>Heikkinen, Miss. Laina</td>\n",
       "      <td>female</td>\n",
       "      <td>26.000000</td>\n",
       "      <td>0</td>\n",
       "      <td>0</td>\n",
       "      <td>STON/O2. 3101282</td>\n",
       "      <td>7.9250</td>\n",
       "      <td>NaN</td>\n",
       "      <td>S</td>\n",
       "      <td>Miss.</td>\n",
       "      <td>21.773973</td>\n",
       "    </tr>\n",
       "    <tr>\n",
       "      <th>3</th>\n",
       "      <td>4</td>\n",
       "      <td>1</td>\n",
       "      <td>1</td>\n",
       "      <td>Futrelle, Mrs. Jacques Heath (Lily May Peel)</td>\n",
       "      <td>female</td>\n",
       "      <td>35.000000</td>\n",
       "      <td>1</td>\n",
       "      <td>0</td>\n",
       "      <td>113803</td>\n",
       "      <td>53.1000</td>\n",
       "      <td>C123</td>\n",
       "      <td>S</td>\n",
       "      <td>Mrs.</td>\n",
       "      <td>35.898148</td>\n",
       "    </tr>\n",
       "    <tr>\n",
       "      <th>4</th>\n",
       "      <td>5</td>\n",
       "      <td>0</td>\n",
       "      <td>3</td>\n",
       "      <td>Allen, Mr. William Henry</td>\n",
       "      <td>male</td>\n",
       "      <td>35.000000</td>\n",
       "      <td>0</td>\n",
       "      <td>0</td>\n",
       "      <td>373450</td>\n",
       "      <td>8.0500</td>\n",
       "      <td>NaN</td>\n",
       "      <td>S</td>\n",
       "      <td>Mr.</td>\n",
       "      <td>32.368090</td>\n",
       "    </tr>\n",
       "    <tr>\n",
       "      <th>...</th>\n",
       "      <td>...</td>\n",
       "      <td>...</td>\n",
       "      <td>...</td>\n",
       "      <td>...</td>\n",
       "      <td>...</td>\n",
       "      <td>...</td>\n",
       "      <td>...</td>\n",
       "      <td>...</td>\n",
       "      <td>...</td>\n",
       "      <td>...</td>\n",
       "      <td>...</td>\n",
       "      <td>...</td>\n",
       "      <td>...</td>\n",
       "      <td>...</td>\n",
       "    </tr>\n",
       "    <tr>\n",
       "      <th>886</th>\n",
       "      <td>887</td>\n",
       "      <td>0</td>\n",
       "      <td>2</td>\n",
       "      <td>Montvila, Rev. Juozas</td>\n",
       "      <td>male</td>\n",
       "      <td>27.000000</td>\n",
       "      <td>0</td>\n",
       "      <td>0</td>\n",
       "      <td>211536</td>\n",
       "      <td>13.0000</td>\n",
       "      <td>NaN</td>\n",
       "      <td>S</td>\n",
       "      <td>Rev.</td>\n",
       "      <td>43.166667</td>\n",
       "    </tr>\n",
       "    <tr>\n",
       "      <th>887</th>\n",
       "      <td>888</td>\n",
       "      <td>1</td>\n",
       "      <td>1</td>\n",
       "      <td>Graham, Miss. Margaret Edith</td>\n",
       "      <td>female</td>\n",
       "      <td>19.000000</td>\n",
       "      <td>0</td>\n",
       "      <td>0</td>\n",
       "      <td>112053</td>\n",
       "      <td>30.0000</td>\n",
       "      <td>B42</td>\n",
       "      <td>S</td>\n",
       "      <td>Miss.</td>\n",
       "      <td>21.773973</td>\n",
       "    </tr>\n",
       "    <tr>\n",
       "      <th>888</th>\n",
       "      <td>889</td>\n",
       "      <td>0</td>\n",
       "      <td>3</td>\n",
       "      <td>Johnston, Miss. Catherine Helen \"Carrie\"</td>\n",
       "      <td>female</td>\n",
       "      <td>21.773973</td>\n",
       "      <td>1</td>\n",
       "      <td>2</td>\n",
       "      <td>W./C. 6607</td>\n",
       "      <td>23.4500</td>\n",
       "      <td>NaN</td>\n",
       "      <td>S</td>\n",
       "      <td>Miss.</td>\n",
       "      <td>21.773973</td>\n",
       "    </tr>\n",
       "    <tr>\n",
       "      <th>889</th>\n",
       "      <td>890</td>\n",
       "      <td>1</td>\n",
       "      <td>1</td>\n",
       "      <td>Behr, Mr. Karl Howell</td>\n",
       "      <td>male</td>\n",
       "      <td>26.000000</td>\n",
       "      <td>0</td>\n",
       "      <td>0</td>\n",
       "      <td>111369</td>\n",
       "      <td>30.0000</td>\n",
       "      <td>C148</td>\n",
       "      <td>C</td>\n",
       "      <td>Mr.</td>\n",
       "      <td>32.368090</td>\n",
       "    </tr>\n",
       "    <tr>\n",
       "      <th>890</th>\n",
       "      <td>891</td>\n",
       "      <td>0</td>\n",
       "      <td>3</td>\n",
       "      <td>Dooley, Mr. Patrick</td>\n",
       "      <td>male</td>\n",
       "      <td>32.000000</td>\n",
       "      <td>0</td>\n",
       "      <td>0</td>\n",
       "      <td>370376</td>\n",
       "      <td>7.7500</td>\n",
       "      <td>NaN</td>\n",
       "      <td>Q</td>\n",
       "      <td>Mr.</td>\n",
       "      <td>32.368090</td>\n",
       "    </tr>\n",
       "  </tbody>\n",
       "</table>\n",
       "<p>891 rows × 14 columns</p>\n",
       "</div>"
      ],
      "text/plain": [
       "     PassengerId  Survived  Pclass  \\\n",
       "0              1         0       3   \n",
       "1              2         1       1   \n",
       "2              3         1       3   \n",
       "3              4         1       1   \n",
       "4              5         0       3   \n",
       "..           ...       ...     ...   \n",
       "886          887         0       2   \n",
       "887          888         1       1   \n",
       "888          889         0       3   \n",
       "889          890         1       1   \n",
       "890          891         0       3   \n",
       "\n",
       "                                                  Name     Sex        Age  \\\n",
       "0                              Braund, Mr. Owen Harris    male  22.000000   \n",
       "1    Cumings, Mrs. John Bradley (Florence Briggs Th...  female  38.000000   \n",
       "2                               Heikkinen, Miss. Laina  female  26.000000   \n",
       "3         Futrelle, Mrs. Jacques Heath (Lily May Peel)  female  35.000000   \n",
       "4                             Allen, Mr. William Henry    male  35.000000   \n",
       "..                                                 ...     ...        ...   \n",
       "886                              Montvila, Rev. Juozas    male  27.000000   \n",
       "887                       Graham, Miss. Margaret Edith  female  19.000000   \n",
       "888           Johnston, Miss. Catherine Helen \"Carrie\"  female  21.773973   \n",
       "889                              Behr, Mr. Karl Howell    male  26.000000   \n",
       "890                                Dooley, Mr. Patrick    male  32.000000   \n",
       "\n",
       "     SibSp  Parch            Ticket     Fare Cabin Embarked  Title     Ageavg  \n",
       "0        1      0         A/5 21171   7.2500   NaN        S    Mr.  32.368090  \n",
       "1        1      0          PC 17599  71.2833   C85        C   Mrs.  35.898148  \n",
       "2        0      0  STON/O2. 3101282   7.9250   NaN        S  Miss.  21.773973  \n",
       "3        1      0            113803  53.1000  C123        S   Mrs.  35.898148  \n",
       "4        0      0            373450   8.0500   NaN        S    Mr.  32.368090  \n",
       "..     ...    ...               ...      ...   ...      ...    ...        ...  \n",
       "886      0      0            211536  13.0000   NaN        S   Rev.  43.166667  \n",
       "887      0      0            112053  30.0000   B42        S  Miss.  21.773973  \n",
       "888      1      2        W./C. 6607  23.4500   NaN        S  Miss.  21.773973  \n",
       "889      0      0            111369  30.0000  C148        C    Mr.  32.368090  \n",
       "890      0      0            370376   7.7500   NaN        Q    Mr.  32.368090  \n",
       "\n",
       "[891 rows x 14 columns]"
      ]
     },
     "execution_count": 85,
     "metadata": {},
     "output_type": "execute_result"
    }
   ],
   "source": [
    "def extract_title(name):\n",
    "    pieces_of_name = name.split()\n",
    "    for word in pieces_of_name:\n",
    "        if '.' in word:\n",
    "            return word\n",
    "\n",
    "df['Title'] = df['Name'].apply(extract_title)\n",
    "df['Title'].value_counts()\n",
    "\n",
    "averages = df[['Title', 'Age']].groupby('Title').mean()\n",
    "df = df.join(averages, rsuffix='avg', on=\"Title\")\n",
    "df['Age'] = df['Age'].fillna(value=df['Ageavg'])\n",
    "df"
   ]
  }
 ],
 "metadata": {
  "kernelspec": {
   "display_name": "Python 3",
   "language": "python",
   "name": "python3"
  },
  "language_info": {
   "codemirror_mode": {
    "name": "ipython",
    "version": 3
   },
   "file_extension": ".py",
   "mimetype": "text/x-python",
   "name": "python",
   "nbconvert_exporter": "python",
   "pygments_lexer": "ipython3",
   "version": "3.12.3"
  }
 },
 "nbformat": 4,
 "nbformat_minor": 2
}
